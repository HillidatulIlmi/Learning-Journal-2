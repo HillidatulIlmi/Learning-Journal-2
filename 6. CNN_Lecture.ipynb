{
  "nbformat": 4,
  "nbformat_minor": 0,
  "metadata": {
    "colab": {
      "name": "w2d1PM_CNN Lecture.ipynb",
      "provenance": [],
      "collapsed_sections": []
    },
    "kernelspec": {
      "name": "python3",
      "display_name": "Python 3"
    },
    "language_info": {
      "name": "python"
    },
    "accelerator": "GPU"
  },
  "cells": [
    {
      "cell_type": "code",
      "execution_count": null,
      "metadata": {
        "id": "aUwPGHDzaYzL"
      },
      "outputs": [],
      "source": [
        "import tensorflow as tf\n",
        "import matplotlib.pyplot as plt"
      ]
    },
    {
      "cell_type": "code",
      "source": [
        "# download MNIST\n",
        "from tensorflow.keras.datasets import mnist\n",
        "(X_train, y_train), (X_test, y_test) = mnist.load_data()\n",
        "X_train = X_train / 255.0\n",
        "X_test = X_test / 255.0"
      ],
      "metadata": {
        "colab": {
          "base_uri": "https://localhost:8080/"
        },
        "id": "ZW3VQGKda2sR",
        "outputId": "9cbce032-ba25-479a-97cc-23510d43575b"
      },
      "execution_count": null,
      "outputs": [
        {
          "output_type": "stream",
          "name": "stdout",
          "text": [
            "Downloading data from https://storage.googleapis.com/tensorflow/tf-keras-datasets/mnist.npz\n",
            "11493376/11490434 [==============================] - 0s 0us/step\n",
            "11501568/11490434 [==============================] - 0s 0us/step\n"
          ]
        }
      ]
    },
    {
      "cell_type": "code",
      "source": [
        "def show_image(img):\n",
        "  plt.imshow(img, cmap='binary');"
      ],
      "metadata": {
        "id": "94jij3z4bO-9"
      },
      "execution_count": null,
      "outputs": []
    },
    {
      "cell_type": "code",
      "source": [
        "show_image(X_train[0])"
      ],
      "metadata": {
        "colab": {
          "base_uri": "https://localhost:8080/",
          "height": 265
        },
        "id": "-G7Dl7M-bqU3",
        "outputId": "e01bc74d-2301-400e-d40f-bb866e0fcee1"
      },
      "execution_count": null,
      "outputs": [
        {
          "output_type": "display_data",
          "data": {
            "image/png": "[encoded data removed]",
            "text/plain": [
              "<Figure size 432x288 with 1 Axes>"
            ]
          },
          "metadata": {
            "needs_background": "light"
          }
        }
      ]
    },
    {
      "cell_type": "code",
      "source": [
        "y_train[0]"
      ],
      "metadata": {
        "colab": {
          "base_uri": "https://localhost:8080/"
        },
        "id": "TkQG209QbtT3",
        "outputId": "63b4d767-f4db-4d98-e698-c190e0520e83"
      },
      "execution_count": null,
      "outputs": [
        {
          "output_type": "execute_result",
          "data": {
            "text/plain": [
              "5"
            ]
          },
          "metadata": {},
          "execution_count": 6
        }
      ]
    },
    {
      "cell_type": "code",
      "source": [
        "X_train[0].shape"
      ],
      "metadata": {
        "colab": {
          "base_uri": "https://localhost:8080/"
        },
        "id": "BAyYt08tdJtj",
        "outputId": "8cbc6c6b-542f-44f4-8793-f2f609947324"
      },
      "execution_count": null,
      "outputs": [
        {
          "output_type": "execute_result",
          "data": {
            "text/plain": [
              "(28, 28)"
            ]
          },
          "metadata": {},
          "execution_count": 7
        }
      ]
    },
    {
      "cell_type": "code",
      "source": [
        "from sklearn.model_selection import train_test_split\n",
        "from tensorflow.keras.utils import to_categorical\n",
        "\n",
        "X_train, X_val, y_train, y_val = train_test_split(X_train, y_train, test_size=0.15, random_state=46)\n",
        "y_train_ohe = to_categorical(y_train)\n",
        "y_val_ohe = to_categorical(y_val)\n",
        "y_test_ohe = to_categorical(y_test)"
      ],
      "metadata": {
        "id": "5ZTvazpSefTl"
      },
      "execution_count": null,
      "outputs": []
    },
    {
      "cell_type": "markdown",
      "source": [
        "CNN Modelling"
      ],
      "metadata": {
        "id": "-k7hydb8b0eG"
      }
    },
    {
      "cell_type": "code",
      "source": [
        "from tensorflow.keras.models import Sequential\n",
        "from tensorflow.keras.layers import Conv2D, MaxPool2D, Dense, Flatten, Dropout\n",
        "\n",
        "model = Sequential([\n",
        "                    Conv2D(16, 3, activation='selu', input_shape=[28, 28, 1]),\n",
        "                    Dropout(0.2),\n",
        "                    MaxPool2D(2),\n",
        "                    Conv2D(64, 3, activation='selu'),\n",
        "                    Dropout(0.2),\n",
        "                    MaxPool2D(2),\n",
        "                    Flatten(),\n",
        "                    Dropout(0.2),\n",
        "                    Dense(128, activation='relu'),\n",
        "                    Dropout(0.2),\n",
        "                    Dense(10, activation='softmax')\n",
        "\n",
        "])\n",
        "\n",
        "model.compile(loss='categorical_crossentropy',\n",
        "              optimizer='adam',\n",
        "              metrics=['accuracy'])"
      ],
      "metadata": {
        "id": "eDZhlAk-bwbp"
      },
      "execution_count": null,
      "outputs": []
    },
    {
      "cell_type": "code",
      "source": [
        "history = model.fit(X_train, \n",
        "                    y_train_ohe, \n",
        "                    epochs=30, \n",
        "                    batch_size=128, \n",
        "                    validation_data=(X_val, y_val_ohe))"
      ],
      "metadata": {
        "colab": {
          "base_uri": "https://localhost:8080/"
        },
        "id": "xmz7h3lKeFzO",
        "outputId": "3121f6a9-8db5-46cf-f61a-9bf6decd3a7a"
      },
      "execution_count": null,
      "outputs": [
        {
          "output_type": "stream",
          "name": "stdout",
          "text": [
            "Epoch 1/30\n",
            "399/399 [==============================] - 3s 6ms/step - loss: 0.2864 - accuracy: 0.9118 - val_loss: 0.0816 - val_accuracy: 0.9756\n",
            "Epoch 2/30\n",
            "399/399 [==============================] - 2s 5ms/step - loss: 0.0948 - accuracy: 0.9712 - val_loss: 0.0585 - val_accuracy: 0.9820\n",
            "Epoch 3/30\n",
            "399/399 [==============================] - 2s 5ms/step - loss: 0.0725 - accuracy: 0.9779 - val_loss: 0.0501 - val_accuracy: 0.9832\n",
            "Epoch 4/30\n",
            "399/399 [==============================] - 2s 6ms/step - loss: 0.0600 - accuracy: 0.9811 - val_loss: 0.0435 - val_accuracy: 0.9857\n",
            "Epoch 5/30\n",
            "399/399 [==============================] - 2s 5ms/step - loss: 0.0517 - accuracy: 0.9840 - val_loss: 0.0386 - val_accuracy: 0.9876\n",
            "Epoch 6/30\n",
            "399/399 [==============================] - 2s 5ms/step - loss: 0.0460 - accuracy: 0.9854 - val_loss: 0.0337 - val_accuracy: 0.9892\n",
            "Epoch 7/30\n",
            "399/399 [==============================] - 2s 5ms/step - loss: 0.0406 - accuracy: 0.9870 - val_loss: 0.0381 - val_accuracy: 0.9882\n",
            "Epoch 8/30\n",
            "399/399 [==============================] - 2s 6ms/step - loss: 0.0390 - accuracy: 0.9879 - val_loss: 0.0370 - val_accuracy: 0.9890\n",
            "Epoch 9/30\n",
            "399/399 [==============================] - 2s 5ms/step - loss: 0.0357 - accuracy: 0.9886 - val_loss: 0.0386 - val_accuracy: 0.9867\n",
            "Epoch 10/30\n",
            "399/399 [==============================] - 2s 5ms/step - loss: 0.0318 - accuracy: 0.9895 - val_loss: 0.0383 - val_accuracy: 0.9878\n",
            "Epoch 11/30\n",
            "399/399 [==============================] - 2s 5ms/step - loss: 0.0313 - accuracy: 0.9898 - val_loss: 0.0326 - val_accuracy: 0.9903\n",
            "Epoch 12/30\n",
            "399/399 [==============================] - 2s 6ms/step - loss: 0.0290 - accuracy: 0.9902 - val_loss: 0.0332 - val_accuracy: 0.9897\n",
            "Epoch 13/30\n",
            "399/399 [==============================] - 2s 6ms/step - loss: 0.0287 - accuracy: 0.9906 - val_loss: 0.0352 - val_accuracy: 0.9893\n",
            "Epoch 14/30\n",
            "399/399 [==============================] - 2s 6ms/step - loss: 0.0271 - accuracy: 0.9913 - val_loss: 0.0483 - val_accuracy: 0.9869\n",
            "Epoch 15/30\n",
            "399/399 [==============================] - 2s 5ms/step - loss: 0.0248 - accuracy: 0.9921 - val_loss: 0.0369 - val_accuracy: 0.9894\n",
            "Epoch 16/30\n",
            "399/399 [==============================] - 2s 6ms/step - loss: 0.0230 - accuracy: 0.9923 - val_loss: 0.0424 - val_accuracy: 0.9892\n",
            "Epoch 17/30\n",
            "399/399 [==============================] - 2s 6ms/step - loss: 0.0237 - accuracy: 0.9922 - val_loss: 0.0346 - val_accuracy: 0.9907\n",
            "Epoch 18/30\n",
            "399/399 [==============================] - 2s 5ms/step - loss: 0.0216 - accuracy: 0.9925 - val_loss: 0.0382 - val_accuracy: 0.9900\n",
            "Epoch 19/30\n",
            "399/399 [==============================] - 2s 5ms/step - loss: 0.0233 - accuracy: 0.9923 - val_loss: 0.0399 - val_accuracy: 0.9899\n",
            "Epoch 20/30\n",
            "399/399 [==============================] - 2s 5ms/step - loss: 0.0217 - accuracy: 0.9929 - val_loss: 0.0452 - val_accuracy: 0.9892\n",
            "Epoch 21/30\n",
            "399/399 [==============================] - 2s 6ms/step - loss: 0.0204 - accuracy: 0.9934 - val_loss: 0.0335 - val_accuracy: 0.9909\n",
            "Epoch 22/30\n",
            "399/399 [==============================] - 2s 6ms/step - loss: 0.0226 - accuracy: 0.9931 - val_loss: 0.0394 - val_accuracy: 0.9906\n",
            "Epoch 23/30\n",
            "399/399 [==============================] - 2s 5ms/step - loss: 0.0190 - accuracy: 0.9935 - val_loss: 0.0431 - val_accuracy: 0.9904\n",
            "Epoch 24/30\n",
            "399/399 [==============================] - 2s 6ms/step - loss: 0.0196 - accuracy: 0.9936 - val_loss: 0.0400 - val_accuracy: 0.9908\n",
            "Epoch 25/30\n",
            "399/399 [==============================] - 2s 6ms/step - loss: 0.0175 - accuracy: 0.9940 - val_loss: 0.0333 - val_accuracy: 0.9910\n",
            "Epoch 26/30\n",
            "399/399 [==============================] - 2s 6ms/step - loss: 0.0172 - accuracy: 0.9944 - val_loss: 0.0416 - val_accuracy: 0.9903\n",
            "Epoch 27/30\n",
            "399/399 [==============================] - 2s 6ms/step - loss: 0.0176 - accuracy: 0.9940 - val_loss: 0.0420 - val_accuracy: 0.9907\n",
            "Epoch 28/30\n",
            "399/399 [==============================] - 2s 5ms/step - loss: 0.0184 - accuracy: 0.9940 - val_loss: 0.0365 - val_accuracy: 0.9906\n",
            "Epoch 29/30\n",
            "399/399 [==============================] - 2s 6ms/step - loss: 0.0158 - accuracy: 0.9947 - val_loss: 0.0392 - val_accuracy: 0.9908\n",
            "Epoch 30/30\n",
            "399/399 [==============================] - 2s 5ms/step - loss: 0.0182 - accuracy: 0.9940 - val_loss: 0.0416 - val_accuracy: 0.9907\n"
          ]
        }
      ]
    },
    {
      "cell_type": "code",
      "source": [
        "import pandas as pd\n",
        "from sklearn.metrics import classification_report\n",
        "\n",
        "metrics = pd.DataFrame(history.history)"
      ],
      "metadata": {
        "id": "hzUJ-aFFfQ5A"
      },
      "execution_count": null,
      "outputs": []
    },
    {
      "cell_type": "code",
      "source": [
        "metrics[['loss', 'val_loss']].plot();"
      ],
      "metadata": {
        "colab": {
          "base_uri": "https://localhost:8080/",
          "height": 265
        },
        "id": "6Ziwv69wgYwE",
        "outputId": "d35c769d-8296-4f23-9cb4-99a66c87e2ca"
      },
      "execution_count": null,
      "outputs": [
        {
          "output_type": "display_data",
          "data": {
            "image/png": "[encoded data removed]",
            "text/plain": [
              "<Figure size 432x288 with 1 Axes>"
            ]
          },
          "metadata": {
            "needs_background": "light"
          }
        }
      ]
    },
    {
      "cell_type": "code",
      "source": [
        "y_pred = model.predict(X_test)\n",
        "y_pred = y_pred.argmax(axis=1)\n",
        "print(classification_report(y_test, y_pred))"
      ],
      "metadata": {
        "colab": {
          "base_uri": "https://localhost:8080/"
        },
        "id": "oZsxmv4qgcu6",
        "outputId": "2724382a-19ee-43de-a09c-dbdf36b36eee"
      },
      "execution_count": null,
      "outputs": [
        {
          "output_type": "stream",
          "name": "stdout",
          "text": [
            "              precision    recall  f1-score   support\n",
            "\n",
            "           0       0.98      1.00      0.99       980\n",
            "           1       0.99      1.00      0.99      1135\n",
            "           2       0.99      0.99      0.99      1032\n",
            "           3       0.99      0.99      0.99      1010\n",
            "           4       0.99      1.00      0.99       982\n",
            "           5       1.00      0.99      0.99       892\n",
            "           6       1.00      0.99      0.99       958\n",
            "           7       0.99      0.99      0.99      1028\n",
            "           8       0.99      0.98      0.99       974\n",
            "           9       0.99      0.99      0.99      1009\n",
            "\n",
            "    accuracy                           0.99     10000\n",
            "   macro avg       0.99      0.99      0.99     10000\n",
            "weighted avg       0.99      0.99      0.99     10000\n",
            "\n"
          ]
        }
      ]
    },
    {
      "cell_type": "code",
      "source": [
        ""
      ],
      "metadata": {
        "id": "9YaZa_WGiOiH"
      },
      "execution_count": null,
      "outputs": []
    }
  ]
}